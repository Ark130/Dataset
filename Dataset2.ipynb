{
  "nbformat": 4,
  "nbformat_minor": 0,
  "metadata": {
    "colab": {
      "provenance": []
    },
    "kernelspec": {
      "name": "python3",
      "display_name": "Python 3"
    },
    "language_info": {
      "name": "python"
    }
  },
  "cells": [
    {
      "cell_type": "code",
      "execution_count": 6,
      "metadata": {
        "id": "8w_LO6mBlJBe"
      },
      "outputs": [],
      "source": [
        "import cv2\n",
        "import numpy as np\n",
        "import os\n",
        "from google.colab import drive\n",
        "import shutil"
      ]
    },
    {
      "cell_type": "code",
      "source": [
        "# Montar Google Drive\n",
        "drive.mount('/content/drive')"
      ],
      "metadata": {
        "colab": {
          "base_uri": "https://localhost:8080/"
        },
        "id": "2XwdRBtUtmGh",
        "outputId": "fc28c075-d04f-4d16-c20f-6e16a5c1cadb"
      },
      "execution_count": 7,
      "outputs": [
        {
          "output_type": "stream",
          "name": "stdout",
          "text": [
            "Mounted at /content/drive\n"
          ]
        }
      ]
    },
    {
      "cell_type": "code",
      "source": [
        "# Mapeo entre carpetas reales y nombres de estados\n",
        "folder_to_state = {\n",
        "    \"Florecimiento\": \"Florecimiento Pleno\",\n",
        "    \"Cambio\": \"Cambio de flores\",\n",
        "    \"Palida\": \"Falta de Luz\"\n",
        "}\n",
        "\n",
        "# Ruta base en Google Drive\n",
        "base_path = \"/content/drive/MyDrive/Fotos\"  # Ajusta si es necesario"
      ],
      "metadata": {
        "id": "gC1dzyVhAIx3"
      },
      "execution_count": 8,
      "outputs": []
    },
    {
      "cell_type": "code",
      "source": [
        "print(f\"Buscando carpetas en: {base_path}\")\n",
        "print(\"Se procesarán las siguientes carpetas:\")\n",
        "for folder, state in folder_to_state.items():\n",
        "    print(f\"- {folder} → {state}\")"
      ],
      "metadata": {
        "colab": {
          "base_uri": "https://localhost:8080/"
        },
        "id": "fhHVFASWAWsA",
        "outputId": "474dfb27-d98e-4c1a-b7f0-ad2f2a0318c6"
      },
      "execution_count": 9,
      "outputs": [
        {
          "output_type": "stream",
          "name": "stdout",
          "text": [
            "Buscando carpetas en: /content/drive/MyDrive/Fotos\n",
            "Se procesarán las siguientes carpetas:\n",
            "- Florecimiento → Florecimiento Pleno\n",
            "- Cambio → Cambio de flores\n",
            "- Palida → Falta de Luz\n"
          ]
        }
      ]
    },
    {
      "cell_type": "code",
      "source": [
        "# Verificar que existe el directorio base\n",
        "if not os.path.exists(base_path):\n",
        "    print(f\"¡ERROR! No se encontró la carpeta base: {base_path}\")\n",
        "    print(\"Por favor, verifica la ruta correcta a la carpeta 'Fotos' en tu Google Drive.\")\n",
        "else:\n",
        "    # Crear archivo dataset\n",
        "    output_file = \"dataset_plantas.txt\"\n",
        "    with open(output_file, \"w\") as f:\n",
        "        # Encabezado\n",
        "        f.write(\"nombre_imagen,estado,histograma_tonos\\n\")\n",
        "\n",
        "        # Procesar cada carpeta\n",
        "        for folder_name, state_name in folder_to_state.items():\n",
        "            folder_path = os.path.join(base_path, folder_name)\n",
        "\n",
        "            # Verificar si la carpeta existe\n",
        "            if not os.path.exists(folder_path):\n",
        "                print(f\"¡Advertencia! No se encontró la carpeta: {folder_name}\")\n",
        "                continue\n",
        "\n",
        "            print(f\"\\nProcesando imágenes de la carpeta '{folder_name}' como estado '{state_name}'\")\n",
        "\n",
        "            # Contador para seguimiento\n",
        "            processed = 0\n",
        "            errors = 0\n",
        "\n",
        "            # Listar todas las imágenes en esta carpeta\n",
        "            image_files = [f for f in os.listdir(folder_path) if f.lower().endswith(('.jpg', '.jpeg', '.png'))]\n",
        "            total_images = len(image_files)\n",
        "            print(f\"Encontradas {total_images} imágenes para procesar\")\n",
        "\n",
        "            for filename in image_files:\n",
        "                try:\n",
        "                    # Ruta completa\n",
        "                    image_path = os.path.join(folder_path, filename)\n",
        "\n",
        "                    # Cargar y procesar imagen\n",
        "                    image = cv2.imread(image_path)\n",
        "                    if image is None:\n",
        "                        print(f\"No se pudo cargar: {filename}\")\n",
        "                        errors += 1\n",
        "                        continue\n",
        "\n",
        "                    # Convertir a RGB y HSV\n",
        "                    image = cv2.cvtColor(image, cv2.COLOR_BGR2RGB)\n",
        "                    image_hsv = cv2.cvtColor(image, cv2.COLOR_RGB2HSV)\n",
        "\n",
        "                    # Histograma de tonos\n",
        "                    hue_channel = image_hsv[:, :, 0]\n",
        "                    hist_hue = cv2.calcHist([hue_channel], [0], None, [180], [0, 180])\n",
        "\n",
        "                    # Convertir a string\n",
        "                    hist_str = \" \".join([str(int(val[0])) for val in hist_hue])\n",
        "\n",
        "                    # Guardar en dataset\n",
        "                    f.write(f\"{filename},{state_name},{hist_str}\\n\")\n",
        "\n",
        "                    processed += 1\n",
        "                    if processed % 50 == 0:\n",
        "                        print(f\"Progreso: {processed}/{total_images} imágenes ({processed/total_images*100:.1f}%)\")\n",
        "\n",
        "                except Exception as e:\n",
        "                    print(f\"Error con {filename}: {str(e)}\")\n",
        "                    errors += 1\n",
        "\n",
        "            print(f\"Completado estado '{state_name}': {processed} imágenes procesadas, {errors} con errores\")\n"
      ],
      "metadata": {
        "colab": {
          "base_uri": "https://localhost:8080/"
        },
        "id": "eAfDQhumAZsy",
        "outputId": "1f81052f-9a15-4e48-f07f-4dade36aaa41"
      },
      "execution_count": 10,
      "outputs": [
        {
          "output_type": "stream",
          "name": "stdout",
          "text": [
            "\n",
            "Procesando imágenes de la carpeta 'Florecimiento' como estado 'Florecimiento Pleno'\n",
            "Encontradas 300 imágenes para procesar\n",
            "Progreso: 50/300 imágenes (16.7%)\n",
            "Progreso: 100/300 imágenes (33.3%)\n",
            "Progreso: 150/300 imágenes (50.0%)\n",
            "Progreso: 200/300 imágenes (66.7%)\n",
            "Progreso: 250/300 imágenes (83.3%)\n",
            "Progreso: 300/300 imágenes (100.0%)\n",
            "Completado estado 'Florecimiento Pleno': 300 imágenes procesadas, 0 con errores\n",
            "\n",
            "Procesando imágenes de la carpeta 'Cambio' como estado 'Cambio de flores'\n",
            "Encontradas 300 imágenes para procesar\n",
            "Progreso: 50/300 imágenes (16.7%)\n",
            "Progreso: 100/300 imágenes (33.3%)\n",
            "Progreso: 150/300 imágenes (50.0%)\n",
            "Progreso: 200/300 imágenes (66.7%)\n",
            "Progreso: 250/300 imágenes (83.3%)\n",
            "Progreso: 300/300 imágenes (100.0%)\n",
            "Completado estado 'Cambio de flores': 300 imágenes procesadas, 0 con errores\n",
            "\n",
            "Procesando imágenes de la carpeta 'Palida' como estado 'Falta de Luz'\n",
            "Encontradas 300 imágenes para procesar\n",
            "Progreso: 50/300 imágenes (16.7%)\n",
            "Progreso: 100/300 imágenes (33.3%)\n",
            "Progreso: 150/300 imágenes (50.0%)\n",
            "Progreso: 200/300 imágenes (66.7%)\n",
            "Progreso: 250/300 imágenes (83.3%)\n",
            "Progreso: 300/300 imágenes (100.0%)\n",
            "Completado estado 'Falta de Luz': 300 imágenes procesadas, 0 con errores\n"
          ]
        }
      ]
    },
    {
      "cell_type": "code",
      "source": [
        "    # Descargar dataset\n",
        "    from google.colab import files\n",
        "    files.download(output_file)\n",
        "    print(f\"\\nDataset completo guardado y descargado como '{output_file}'\")\n",
        "    print(\"El dataset contiene el nombre de la imagen, el estado de la planta y los valores del histograma de tonos.\")"
      ],
      "metadata": {
        "colab": {
          "base_uri": "https://localhost:8080/",
          "height": 72
        },
        "id": "joq28QMOAdOm",
        "outputId": "122cdb06-7945-4c27-81d0-3bb0c9c71b3f"
      },
      "execution_count": 11,
      "outputs": [
        {
          "output_type": "display_data",
          "data": {
            "text/plain": [
              "<IPython.core.display.Javascript object>"
            ],
            "application/javascript": [
              "\n",
              "    async function download(id, filename, size) {\n",
              "      if (!google.colab.kernel.accessAllowed) {\n",
              "        return;\n",
              "      }\n",
              "      const div = document.createElement('div');\n",
              "      const label = document.createElement('label');\n",
              "      label.textContent = `Downloading \"${filename}\": `;\n",
              "      div.appendChild(label);\n",
              "      const progress = document.createElement('progress');\n",
              "      progress.max = size;\n",
              "      div.appendChild(progress);\n",
              "      document.body.appendChild(div);\n",
              "\n",
              "      const buffers = [];\n",
              "      let downloaded = 0;\n",
              "\n",
              "      const channel = await google.colab.kernel.comms.open(id);\n",
              "      // Send a message to notify the kernel that we're ready.\n",
              "      channel.send({})\n",
              "\n",
              "      for await (const message of channel.messages) {\n",
              "        // Send a message to notify the kernel that we're ready.\n",
              "        channel.send({})\n",
              "        if (message.buffers) {\n",
              "          for (const buffer of message.buffers) {\n",
              "            buffers.push(buffer);\n",
              "            downloaded += buffer.byteLength;\n",
              "            progress.value = downloaded;\n",
              "          }\n",
              "        }\n",
              "      }\n",
              "      const blob = new Blob(buffers, {type: 'application/binary'});\n",
              "      const a = document.createElement('a');\n",
              "      a.href = window.URL.createObjectURL(blob);\n",
              "      a.download = filename;\n",
              "      div.appendChild(a);\n",
              "      a.click();\n",
              "      div.remove();\n",
              "    }\n",
              "  "
            ]
          },
          "metadata": {}
        },
        {
          "output_type": "display_data",
          "data": {
            "text/plain": [
              "<IPython.core.display.Javascript object>"
            ],
            "application/javascript": [
              "download(\"download_446d0c11-0e15-466c-b698-d95acb1290ec\", \"dataset_plantas.txt\", 879437)"
            ]
          },
          "metadata": {}
        },
        {
          "output_type": "stream",
          "name": "stdout",
          "text": [
            "\n",
            "Dataset completo guardado y descargado como 'dataset_plantas.txt'\n",
            "El dataset contiene el nombre de la imagen, el estado de la planta y los valores del histograma de tonos.\n"
          ]
        }
      ]
    }
  ]
}